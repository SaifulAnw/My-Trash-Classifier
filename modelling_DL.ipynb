{
 "cells": [
  {
   "cell_type": "markdown",
   "metadata": {},
   "source": [
    "# TrashNet Image Classification Project"
   ]
  },
  {
   "cell_type": "markdown",
   "metadata": {},
   "source": [
    "## Overview \n",
    "This project involves classifying images of different types of trash using a convolutional neural network (CNN). The dataset used is the TrashNet dataset from Hugging Face."
   ]
  },
  {
   "cell_type": "markdown",
   "metadata": {},
   "source": [
    "## Table of Contents\n",
    "1. [Importing Libraries](#importing-libraries)\n",
    "2. [Loading the Dataset](#loading-the-dataset)\n",
    "3. [Image Preprocessing](#image-preprocessing)\n",
    "4. [Model Definition](#model-definition)\n",
    "5. [Training the Model](#training-the-model)\n",
    "6. [Evaluation](#evaluation)\n",
    "7. [Model versioning and tracking using wandb.ai](#Model-versioning-and-tracking-using-wandb.ai) \n",
    "8. [Conclusion](#conclusion)"
   ]
  },
  {
   "cell_type": "markdown",
   "metadata": {},
   "source": [
    "## Importing Libraries"
   ]
  },
  {
   "cell_type": "code",
   "execution_count": 195,
   "metadata": {},
   "outputs": [],
   "source": [
    "#pip install -r requirements.txt"
   ]
  },
  {
   "cell_type": "markdown",
   "metadata": {},
   "source": [
    "**Import necessary libraries**"
   ]
  },
  {
   "cell_type": "code",
   "execution_count": 187,
   "metadata": {},
   "outputs": [],
   "source": [
    "import matplotlib.pyplot as plt\n",
    "from datasets import load_dataset\n",
    "from PIL import Image, ImageOps\n",
    "import os\n",
    "from sklearn.utils.class_weight import compute_class_weight\n",
    "import numpy as np\n",
    "import torch\n",
    "from torchvision.datasets import ImageFolder\n",
    "from torchvision import datasets\n",
    "import torch.nn as nn\n",
    "import torch.optim as optim\n",
    "from torch.utils.data import DataLoader, WeightedRandomSampler\n",
    "from torchvision import transforms\n",
    "import torch.nn.functional as F\n",
    "from collections import Counter\n",
    "from torch.utils.data import random_split\n",
    "from sklearn.metrics import accuracy_score, classification_report\n",
    "from sklearn.metrics import confusion_matrix\n",
    "import seaborn as sns"
   ]
  },
  {
   "cell_type": "markdown",
   "metadata": {},
   "source": [
    "## Loading the Dataset"
   ]
  },
  {
   "cell_type": "code",
   "execution_count": 2,
   "metadata": {},
   "outputs": [
    {
     "data": {
      "application/vnd.jupyter.widget-view+json": {
       "model_id": "b3c3d5aeee434b40ba8b10a69cab77d2",
       "version_major": 2,
       "version_minor": 0
      },
      "text/plain": [
       "README.md:   0%|          | 0.00/21.0 [00:00<?, ?B/s]"
      ]
     },
     "metadata": {},
     "output_type": "display_data"
    },
    {
     "data": {
      "application/vnd.jupyter.widget-view+json": {
       "model_id": "0403282d7c44448ebcb428d00b23114a",
       "version_major": 2,
       "version_minor": 0
      },
      "text/plain": [
       "dataset-original.zip:   0%|          | 0.00/3.63G [00:00<?, ?B/s]"
      ]
     },
     "metadata": {},
     "output_type": "display_data"
    },
    {
     "data": {
      "application/vnd.jupyter.widget-view+json": {
       "model_id": "fd2bd22cd74d4865bf495ea80b819720",
       "version_major": 2,
       "version_minor": 0
      },
      "text/plain": [
       "dataset-resized.zip:   0%|          | 0.00/42.8M [00:00<?, ?B/s]"
      ]
     },
     "metadata": {},
     "output_type": "display_data"
    },
    {
     "data": {
      "application/vnd.jupyter.widget-view+json": {
       "model_id": "0bfdf66f07d44938b7b611b2be5775f0",
       "version_major": 2,
       "version_minor": 0
      },
      "text/plain": [
       "Generating train split:   0%|          | 0/5054 [00:00<?, ? examples/s]"
      ]
     },
     "metadata": {},
     "output_type": "display_data"
    }
   ],
   "source": [
    "# Load TrashNet dataset\n",
    "dataset = load_dataset(\"garythung/trashnet\")"
   ]
  },
  {
   "cell_type": "markdown",
   "metadata": {},
   "source": [
    "## Image Preprocessing"
   ]
  },
  {
   "cell_type": "code",
   "execution_count": 164,
   "metadata": {},
   "outputs": [],
   "source": [
    "# Define the base directory for resized images\n",
    "base_dir = \"resize-image/\""
   ]
  },
  {
   "cell_type": "code",
   "execution_count": 11,
   "metadata": {},
   "outputs": [],
   "source": [
    "# Resize and save images according to their category\n",
    "for idx, item in enumerate(dataset['train']):\n",
    "    image = item['image']\n",
    "    category = item['label']\n",
    "    \n",
    "    # Determine the folder name based on the label\n",
    "    label_name = dataset['train'].features['label'].int2str(category)\n",
    "    save_dir = os.path.join(base_dir, label_name)\n",
    "    os.makedirs(save_dir, exist_ok=True)  # Create directory if it doesn't exist\n",
    "    \n",
    "    # Resize the image while preserving the aspect ratio\n",
    "    image_resized = ImageOps.fit(image, (256, 256), Image.LANCZOS)\n",
    "    \n",
    "    # Create the save path using the index as the filename\n",
    "    save_path = os.path.join(save_dir, f\"{idx}.jpg\")\n",
    "    image_resized.save(save_path)"
   ]
  },
  {
   "cell_type": "markdown",
   "metadata": {},
   "source": [
    "> The ImageOps.fit method with Image.LANCZOS resampling is used to ensure the image is resized to 256x256 without distortion and with optimal quality. Image.LANCZOS produces smoother image interpolation, preserving important details useful for the model. With ImageOps.fit, the aspect ratio of the original image is maintained, so objects do not appear distorted, making it easier for the model to recognize patterns. The end result is a high-quality, uniformly sized dataset, providing more consistent and stable input for deep learning training."
   ]
  },
  {
   "cell_type": "markdown",
   "metadata": {},
   "source": [
    "## Normalization and Transformations"
   ]
  },
  {
   "cell_type": "markdown",
   "metadata": {},
   "source": [
    "### Data Normalization\n",
    "Normalization is a critical step in preparing data for training machine learning models, especially neural networks. In this project, I applied normalization to the image data using the mean and standard deviation values specific to the dataset (ImageNet values in this case). The primary reasons for normalization are:\n",
    "\n",
    "- **Improved Convergence:** Normalizing the input data helps the model converge faster during training, as it ensures that all features have a similar scale.\n",
    "- **Stability:** It reduces the risk of numerical instability that can arise from large input values, particularly in gradient-based optimization methods.\n",
    "- **Performance Improvement:** Normalization can enhance the model's performance by ensuring that the weights are updated consistently across all dimensions during training."
   ]
  },
  {
   "cell_type": "markdown",
   "metadata": {},
   "source": [
    "### Data Transformations\n",
    "I utilized various image transformations to augment the dataset and enhance the model's robustness. The transformations included:\n",
    "\n",
    "- **Random Horizontal Flip:** This helps the model learn invariant features, making it more robust to variations in image orientation.\n",
    "- **Random Rotation:** Adding rotational invariance ensures that the model can recognize objects in different orientations, which is essential for real-world applications where images may not be perfectly aligned.\n",
    "- **Resizing:** Consistent image size (256x256) is crucial as neural networks require uniform input dimensions. It also helps in reducing computational complexity.\n",
    "  \n",
    "These transformations increase the effective size of the training dataset and improve the model's ability to generalize to unseen data."
   ]
  },
  {
   "cell_type": "markdown",
   "metadata": {},
   "source": [
    "**Transformation pipeline that incorporates Min-Max Scaling**"
   ]
  },
  {
   "cell_type": "code",
   "execution_count": 165,
   "metadata": {},
   "outputs": [],
   "source": [
    "# Define normalization values for the dataset\n",
    "mean = [0.485, 0.456, 0.406]  \n",
    "std = [0.229, 0.224, 0.225]\n",
    "\n",
    "# Create a combined transformation pipeline for data preprocessing\n",
    "transform_combined = transforms.Compose([\n",
    "    transforms.Resize((256, 256)),  # Resize the image\n",
    "    transforms.RandomHorizontalFlip(),  # Randomly flip the image horizontally\n",
    "    transforms.RandomRotation(30),  # Randomly rotate the image by 30 degrees\n",
    "    transforms.ToTensor(),  # Convert image to tensor\n",
    "    transforms.Normalize(mean, std)  # Normalize the image\n",
    "])"
   ]
  },
  {
   "cell_type": "markdown",
   "metadata": {},
   "source": [
    "**Addressing Label Imbalance**"
   ]
  },
  {
   "cell_type": "code",
   "execution_count": 166,
   "metadata": {},
   "outputs": [],
   "source": [
    "# Load the dataset using ImageFolder with the defined transformations\n",
    "dataset = datasets.ImageFolder(root=base_dir, transform=transform_combined)\n",
    "\n",
    "# Split the dataset into training and validation sets\n",
    "train_size = int(0.8 * len(dataset))  # 80% for training\n",
    "val_size = len(dataset) - train_size  # 20% for validation\n",
    "train_dataset, val_dataset = random_split(dataset, [train_size, val_size])\n",
    "\n",
    "# Extract labels from the training dataset to compute class weights\n",
    "train_labels = [item[1] for item in train_dataset]  # Get labels from the training dataset"
   ]
  },
  {
   "cell_type": "markdown",
   "metadata": {},
   "source": [
    "**Create Label Distribution Plot**"
   ]
  },
  {
   "cell_type": "code",
   "execution_count": 190,
   "metadata": {},
   "outputs": [
    {
     "data": {
      "image/png": "[encoded data removed]",
      "text/plain": [
       "<Figure size 1000x500 with 1 Axes>"
      ]
     },
     "metadata": {},
     "output_type": "display_data"
    }
   ],
   "source": [
    "label_counts = np.bincount(train_labels)\n",
    "\n",
    "# Create a label distribution plot\n",
    "plt.figure(figsize=(10, 5))\n",
    "plt.bar(range(len(label_counts)), label_counts, color=['#FFB3BA', '#FF677D', '#D4A5A5', '#392F5A', '#6A0572'])\n",
    "plt.title('Label Distribution')\n",
    "plt.xlabel('Label')\n",
    "plt.ylabel('Amount')\n",
    "plt.xticks(ticks=np.arange(len(label_counts)), labels=dataset.classes, rotation=45)\n",
    "plt.show()"
   ]
  },
  {
   "cell_type": "markdown",
   "metadata": {},
   "source": [
    "<b>Step 1: Calculate the Frequency of Each Class<b>\n",
    "##### Calculate the frequency of each class and create weights for each class. This is important to ensure that the model is not biased towards classes that occur more frequently."
   ]
  },
  {
   "cell_type": "markdown",
   "metadata": {},
   "source": [
    "<b>Step 2: Create a WeightedRandomSampler<b>\n",
    "##### Create a WeightedRandomSampler using the calculated weights. This will ensure that during training, the model gets samples from all classes, even though some classes may have fewer examples."
   ]
  },
  {
   "cell_type": "code",
   "execution_count": 168,
   "metadata": {},
   "outputs": [],
   "source": [
    "# Compute class weights to handle class imbalance\n",
    "label_counts = np.bincount(train_labels)\n",
    "class_weights = compute_class_weight('balanced', classes=np.unique(train_labels), y=train_labels)\n",
    "\n",
    "# Convert class weights to PyTorch tensor\n",
    "class_weights_tensor = torch.tensor(class_weights, dtype=torch.float)\n",
    "\n",
    "# Define the loss function with class weighting\n",
    "loss_fn = nn.CrossEntropyLoss(weight=class_weights_tensor)"
   ]
  },
  {
   "cell_type": "code",
   "execution_count": 169,
   "metadata": {},
   "outputs": [],
   "source": [
    "# Calculate the frequency of each class for sampling\n",
    "class_counts = np.bincount(train_labels)\n",
    "class_weights = 1. / class_counts  # Inverse frequency for class weighting\n",
    "sample_weights = class_weights[train_labels]  # Weights for each sample\n",
    "\n",
    "# Create a WeightedRandomSampler to handle class imbalance\n",
    "sampler = WeightedRandomSampler(weights=sample_weights, num_samples=len(sample_weights), replacement=True)"
   ]
  },
  {
   "cell_type": "markdown",
   "metadata": {},
   "source": [
    "**Calculate the class frequency before and after treatment**"
   ]
  },
  {
   "cell_type": "code",
   "execution_count": 170,
   "metadata": {},
   "outputs": [],
   "source": [
    "# Calculate the frequency of each class from the original dataset\n",
    "original_class_counts = np.bincount(train_labels)\n",
    "\n",
    "# Uses a sampler to calculate new frequencies\n",
    "sampled_labels = [train_labels[i] for i in sampler]\n",
    "new_class_counts = np.bincount(sampled_labels)"
   ]
  },
  {
   "cell_type": "code",
   "execution_count": 171,
   "metadata": {},
   "outputs": [],
   "source": [
    "# Label to display\n",
    "label_names = ['Carboard', 'Glass', 'Metal', 'Paper', 'Plastic', 'Trash']  \n",
    "x = np.arange(len(label_names))"
   ]
  },
  {
   "cell_type": "markdown",
   "metadata": {},
   "source": [
    "### Visualizing Image Distribution\n",
    "I visualized the distribution of images across different categories to gain insights into the dataset. This step is essential for several reasons:\n",
    "\n",
    "- **Identifying Class Imbalance:** Visualizing the distribution helps me recognize if certain categories have significantly more samples than others, indicating a potential class imbalance that could affect model performance.\n",
    "- **Understanding Dataset Composition:** It provides a clear overview of the dataset's composition, allowing me to evaluate whether I have sufficient samples for each class to train a robust model.\n",
    "- **Guiding Data Augmentation:** If some categories are underrepresented, I can adjust my data augmentation strategy to generate more samples for those classes, thereby improving the model’s ability to generalize."
   ]
  },
  {
   "cell_type": "code",
   "execution_count": 192,
   "metadata": {},
   "outputs": [
    {
     "data": {
      "image/png": "[encoded data removed]",
      "text/plain": [
       "<Figure size 1200x600 with 2 Axes>"
      ]
     },
     "metadata": {},
     "output_type": "display_data"
    }
   ],
   "source": [
    "# Distribution plot\n",
    "fig, ax = plt.subplots(1, 2, figsize=(12, 6))\n",
    "\n",
    "# Before\n",
    "ax[0].bar(x - 0.2, original_class_counts, width=0.4, label='Original', color='blue')\n",
    "ax[0].set_title('Label Distribution Before Handling')\n",
    "ax[0].set_xticks(x)\n",
    "ax[0].set_xticklabels(label_names)\n",
    "ax[0].set_ylabel('Amount')\n",
    "ax[0].legend()\n",
    "\n",
    "# After\n",
    "ax[1].bar(x + 0.2, new_class_counts, width=0.4, label='After Sampling', color='orange')\n",
    "ax[1].set_title('Distribution After Handling with WeightedRandomSampler')\n",
    "ax[1].set_xticks(x)\n",
    "ax[1].set_xticklabels(label_names)\n",
    "ax[1].set_ylabel('Amount')\n",
    "ax[1].legend()\n",
    "\n",
    "plt.show()"
   ]
  },
  {
   "cell_type": "markdown",
   "metadata": {},
   "source": [
    "**Create DataLoader for training and validation**"
   ]
  },
  {
   "cell_type": "code",
   "execution_count": 173,
   "metadata": {},
   "outputs": [],
   "source": [
    "# Create DataLoader\n",
    "train_loader = DataLoader(train_dataset, batch_size=32, sampler=sampler)\n",
    "val_loader = DataLoader(val_dataset, batch_size=32, shuffle=False) # Shuffle for validation data"
   ]
  },
  {
   "cell_type": "markdown",
   "metadata": {},
   "source": [
    "*To check if train_loader is working properly*"
   ]
  },
  {
   "cell_type": "markdown",
   "metadata": {},
   "source": [
    "**Memastikan Bobot Sampel**"
   ]
  },
  {
   "cell_type": "code",
   "execution_count": 174,
   "metadata": {},
   "outputs": [
    {
     "name": "stdout",
     "output_type": "stream",
     "text": [
      "Total number of training batches: 127\n",
      "Sample weights for training: [0.00125471 0.00125471 0.00129199 0.00154799 0.00105597 0.00153846\n",
      " 0.00105597 0.00105597 0.00129199 0.00154799]\n"
     ]
    }
   ],
   "source": [
    "# Check the number of batches in train_loader\n",
    "num_train_batches = len(train_loader)\n",
    "print(f\"Total number of training batches: {num_train_batches}\")\n",
    "\n",
    "# Check sample weights in train_loader\n",
    "# Take several sample weights to display, by slicing\n",
    "print(\"Sample weights for training:\", sample_weights[:10]) # Displays the first 10 sample weights"
   ]
  },
  {
   "cell_type": "markdown",
   "metadata": {},
   "source": [
    "**In the validation section**"
   ]
  },
  {
   "cell_type": "markdown",
   "metadata": {},
   "source": [
    "*Sample weights are not applied to the validation set, but can be checked for label distribution*"
   ]
  },
  {
   "cell_type": "code",
   "execution_count": 175,
   "metadata": {},
   "outputs": [
    {
     "name": "stdout",
     "output_type": "stream",
     "text": [
      "Total number of validation batches: 32\n"
     ]
    }
   ],
   "source": [
    "# Check the number of batches in val_loader\n",
    "num_val_batches = len(val_loader)\n",
    "print(f\"Total number of validation batches: {num_val_batches}\")\n",
    "\n",
    "\n",
    "# Takes the index from val_dataset to get the labels of the original dataset\n",
    "val_indices = val_dataset.indices\n",
    "val_labels = [dataset.samples[i][1] for i in val_indices] # Retrieves labels from the original dataset using indices"
   ]
  },
  {
   "cell_type": "code",
   "execution_count": 176,
   "metadata": {},
   "outputs": [
    {
     "name": "stdout",
     "output_type": "stream",
     "text": [
      "Label counts for validation dataset: [156 205 174 241 190  45]\n"
     ]
    }
   ],
   "source": [
    "# Calculates the distribution of labels in the validation set\n",
    "val_label_counts = np.bincount(val_labels)\n",
    "\n",
    "# Displays the label distribution for the validation dataset\n",
    "print(\"Label counts for validation dataset:\", val_label_counts)"
   ]
  },
  {
   "cell_type": "code",
   "execution_count": 193,
   "metadata": {},
   "outputs": [
    {
     "data": {
      "image/png": "[encoded data removed]",
      "text/plain": [
       "<Figure size 1000x500 with 1 Axes>"
      ]
     },
     "metadata": {},
     "output_type": "display_data"
    }
   ],
   "source": [
    "# Displays a bar plot of the distribution of labels in the validation set\n",
    "label_names = dataset.classes # Uses the class names of the dataset\n",
    "x = np.arange(len(label_names))\n",
    "\n",
    "plt.figure(figsize=(10, 5))\n",
    "plt.bar(x, val_label_counts, color=['#FFB3BA', '#FF677D', '#D4A5A5', '#392F5A', '#6A0572'])\n",
    "plt.title('Distribution of Labels in Validation Set')\n",
    "plt.xlabel('Label')\n",
    "plt.ylabel('Amount')\n",
    "plt.xticks(ticks=x, labels=label_names, rotation=45)\n",
    "plt.show()"
   ]
  },
  {
   "cell_type": "markdown",
   "metadata": {},
   "source": [
    ">Does not use weighted sampling for validation data, as the purpose of validation data is to provide an accurate picture of model performance on unseen data."
   ]
  },
  {
   "cell_type": "markdown",
   "metadata": {},
   "source": [
    "*Define Model Architecture*"
   ]
  },
  {
   "cell_type": "markdown",
   "metadata": {},
   "source": [
    "**Gets the size of all images in train_dataset**"
   ]
  },
  {
   "cell_type": "code",
   "execution_count": 178,
   "metadata": {},
   "outputs": [
    {
     "name": "stdout",
     "output_type": "stream",
     "text": [
      "Image 1 size: torch.Size([3, 256, 256]), Label: 1\n",
      "Image 2 size: torch.Size([3, 256, 256]), Label: 1\n",
      "Image 3 size: torch.Size([3, 256, 256]), Label: 4\n",
      "Image 4 size: torch.Size([3, 256, 256]), Label: 2\n",
      "Image 5 size: torch.Size([3, 256, 256]), Label: 3\n",
      "Image 6 size: torch.Size([3, 256, 256]), Label: 0\n",
      "Image 7 size: torch.Size([3, 256, 256]), Label: 3\n",
      "Image 8 size: torch.Size([3, 256, 256]), Label: 3\n",
      "Image 9 size: torch.Size([3, 256, 256]), Label: 4\n",
      "Image 10 size: torch.Size([3, 256, 256]), Label: 2\n"
     ]
    }
   ],
   "source": [
    "# Fetch 10 images from train_dataset\n",
    "sample_images = [train_dataset[i][0] for i in range(10)] # Take images from index 0 to 9\n",
    "sample_labels = [train_dataset[i][1] for i in range(10)] # Retrieve appropriate labels\n",
    "\n",
    "# Displays image and label sizes\n",
    "for i, img in enumerate(sample_images):\n",
    "    print(f\"Image {i+1} size: {img.shape}, Label: {sample_labels[i]}\")"
   ]
  },
  {
   "cell_type": "markdown",
   "metadata": {},
   "source": [
    "## Model Definition"
   ]
  },
  {
   "cell_type": "markdown",
   "metadata": {},
   "source": [
    "### Custom Model Architecture\n",
    "I chose to build a custom convolutional neural network (CNN) for several reasons:\n",
    "\n",
    "- **Flexibility:** Designing a custom model allows me to tailor the architecture to better suit the specific characteristics of the TrashNet dataset and the problem at hand.\n",
    "- **Experimentation:** Building a model from scratch enables me to experiment with different layer configurations, activation functions, and hyperparameters, fostering a deeper understanding of the model's behavior.\n",
    "- **Learning Experience:** Implementing my own architecture gives me hands-on experience with neural network design and the opportunity to apply theoretical concepts practically."
   ]
  },
  {
   "cell_type": "markdown",
   "metadata": {},
   "source": [
    "*Create a Neural Network model with several layers*"
   ]
  },
  {
   "cell_type": "code",
   "execution_count": 179,
   "metadata": {},
   "outputs": [],
   "source": [
    "# Define the Simple CNN model\n",
    "class SimpleCNN(nn.Module):\n",
    "    def __init__(self):\n",
    "        super(SimpleCNN, self).__init__()\n",
    "        self.conv1 = nn.Conv2d(3, 16, kernel_size=3, padding=1)  # First convolutional layer\n",
    "        self.pool = nn.MaxPool2d(kernel_size=2, stride=2)  # Max pooling layer\n",
    "        self.conv2 = nn.Conv2d(16, 32, kernel_size=3, padding=1)  # Second convolutional layer\n",
    "        self.fc1 = nn.Linear(32 * 64 * 64, 128)  # Fully connected layer\n",
    "        self.fc2 = nn.Linear(128, len(dataset.classes))  # Output layer for classification\n",
    "        self.dropout = nn.Dropout(0.5)  # Dropout layer to prevent overfitting\n",
    "\n",
    "    def forward(self, x):\n",
    "        # Forward pass through the model\n",
    "        x = self.pool(F.relu(self.conv1(x)))  # Apply first conv layer and pooling\n",
    "        x = self.pool(F.relu(self.conv2(x)))  # Apply second conv layer and pooling\n",
    "        x = x.view(-1, 32 * 64 * 64)  # Flatten the output\n",
    "        x = F.relu(self.fc1(x))  # Apply first fully connected layer\n",
    "        x = self.dropout(x)  # Apply dropout\n",
    "        x = self.fc2(x)  # Apply output layer\n",
    "        return x\n",
    "\n",
    "# Initialize the model\n",
    "model = SimpleCNN()"
   ]
  },
  {
   "cell_type": "markdown",
   "metadata": {},
   "source": [
    "## Training the Model"
   ]
  },
  {
   "cell_type": "markdown",
   "metadata": {},
   "source": [
    "**Defining Loss Function and Optimizer**"
   ]
  },
  {
   "cell_type": "code",
   "execution_count": 180,
   "metadata": {},
   "outputs": [],
   "source": [
    "criterion = nn.CrossEntropyLoss()\n",
    "\n",
    "# Set the optimizer with a new learning rate\n",
    "optimizer = optim.Adam(model.parameters(), lr=0.0001)\n",
    "\n",
    "# Initialize scheduler\n",
    "scheduler = optim.lr_scheduler.ReduceLROnPlateau(optimizer, factor=0.5, patience=2)"
   ]
  },
  {
   "cell_type": "markdown",
   "metadata": {},
   "source": [
    "**Training the Model**"
   ]
  },
  {
   "cell_type": "markdown",
   "metadata": {},
   "source": [
    "*Making sure to convert model and data to GPU*"
   ]
  },
  {
   "cell_type": "code",
   "execution_count": 200,
   "metadata": {},
   "outputs": [],
   "source": [
    "# Move the model to the GPU\n",
    "model = model.to(device)\n",
    "\n",
    "# To Save \n",
    "torch.save(model.state_dict(), \"model.pth\")"
   ]
  },
  {
   "cell_type": "markdown",
   "metadata": {},
   "source": [
    "*Training the model using training data*"
   ]
  },
  {
   "cell_type": "code",
   "execution_count": 182,
   "metadata": {},
   "outputs": [
    {
     "name": "stdout",
     "output_type": "stream",
     "text": [
      "Learning Rate: 0.0001\n",
      "Epoch [1/35], Loss: 1.5411, Validation Loss: 1.4396\n",
      "Learning Rate: 0.0001\n",
      "Epoch [2/35], Loss: 1.1857, Validation Loss: 1.4450\n",
      "Learning Rate: 0.0001\n",
      "Epoch [3/35], Loss: 1.1793, Validation Loss: 1.3466\n",
      "Learning Rate: 0.0001\n",
      "Epoch [4/35], Loss: 1.4290, Validation Loss: 1.3206\n",
      "Learning Rate: 0.0001\n",
      "Epoch [5/35], Loss: 1.4836, Validation Loss: 1.2905\n",
      "Learning Rate: 0.0001\n",
      "Epoch [6/35], Loss: 1.4631, Validation Loss: 1.2373\n",
      "Learning Rate: 0.0001\n",
      "Epoch [7/35], Loss: 0.9997, Validation Loss: 1.2984\n",
      "Learning Rate: 0.0001\n",
      "Epoch [8/35], Loss: 1.2939, Validation Loss: 1.2365\n",
      "Learning Rate: 0.0001\n",
      "Epoch [9/35], Loss: 1.2710, Validation Loss: 1.1888\n",
      "Learning Rate: 0.0001\n",
      "Epoch [10/35], Loss: 1.2328, Validation Loss: 1.1555\n",
      "Learning Rate: 0.0001\n",
      "Epoch [11/35], Loss: 1.3489, Validation Loss: 1.1627\n",
      "Learning Rate: 0.0001\n",
      "Epoch [12/35], Loss: 1.0602, Validation Loss: 1.1366\n",
      "Learning Rate: 0.0001\n",
      "Epoch [13/35], Loss: 1.0859, Validation Loss: 1.0982\n",
      "Learning Rate: 0.0001\n",
      "Epoch [14/35], Loss: 0.8158, Validation Loss: 1.0935\n",
      "Learning Rate: 0.0001\n",
      "Epoch [15/35], Loss: 1.0058, Validation Loss: 1.0898\n",
      "Learning Rate: 0.0001\n",
      "Epoch [16/35], Loss: 0.9878, Validation Loss: 1.0994\n",
      "Learning Rate: 0.0001\n",
      "Epoch [17/35], Loss: 0.9694, Validation Loss: 1.0485\n",
      "Learning Rate: 0.0001\n",
      "Epoch [18/35], Loss: 0.9040, Validation Loss: 1.0454\n",
      "Learning Rate: 0.0001\n",
      "Epoch [19/35], Loss: 1.3575, Validation Loss: 1.0733\n",
      "Learning Rate: 0.0001\n",
      "Epoch [20/35], Loss: 1.6768, Validation Loss: 1.0185\n",
      "Learning Rate: 0.0001\n",
      "Epoch [21/35], Loss: 1.5405, Validation Loss: 1.0467\n",
      "Learning Rate: 0.0001\n",
      "Epoch [22/35], Loss: 1.3501, Validation Loss: 1.0364\n",
      "Learning Rate: 5e-05\n",
      "Epoch [23/35], Loss: 0.9409, Validation Loss: 1.0648\n",
      "Learning Rate: 5e-05\n",
      "Epoch [24/35], Loss: 1.3286, Validation Loss: 0.9980\n",
      "Learning Rate: 5e-05\n",
      "Epoch [25/35], Loss: 0.8256, Validation Loss: 1.0155\n",
      "Learning Rate: 5e-05\n",
      "Epoch [26/35], Loss: 1.0066, Validation Loss: 1.0050\n",
      "Learning Rate: 5e-05\n",
      "Epoch [27/35], Loss: 1.2783, Validation Loss: 0.9720\n",
      "Learning Rate: 5e-05\n",
      "Epoch [28/35], Loss: 1.4614, Validation Loss: 1.0023\n",
      "Learning Rate: 5e-05\n",
      "Epoch [29/35], Loss: 0.6021, Validation Loss: 0.9923\n",
      "Learning Rate: 2.5e-05\n",
      "Epoch [30/35], Loss: 1.2243, Validation Loss: 0.9751\n",
      "Learning Rate: 2.5e-05\n",
      "Epoch [31/35], Loss: 0.5853, Validation Loss: 0.9674\n",
      "Learning Rate: 2.5e-05\n",
      "Epoch [32/35], Loss: 0.8449, Validation Loss: 0.9479\n",
      "Learning Rate: 2.5e-05\n",
      "Epoch [33/35], Loss: 0.5437, Validation Loss: 0.9606\n",
      "Learning Rate: 2.5e-05\n",
      "Epoch [34/35], Loss: 0.5507, Validation Loss: 0.9347\n",
      "Learning Rate: 2.5e-05\n",
      "Epoch [35/35], Loss: 1.0762, Validation Loss: 0.9665\n"
     ]
    }
   ],
   "source": [
    "num_epochs = 35\n",
    "\n",
    "# Training loop\n",
    "for epochs in range(num_epochs):\n",
    "    model.train() # Set the model to training mode\n",
    "    for inputs, labels in train_loader:\n",
    "        inputs, labels = inputs.to(device), labels.to(device) # Move to the same device\n",
    "        optimizer.zero_grad()\n",
    "        outputs = model(inputs)\n",
    "        loss = criterion(outputs, labels)\n",
    "        loss.backward()\n",
    "        optimizer.step()\n",
    "    \n",
    "    # Model validation\n",
    "    model.eval() # Set the model to evaluation mode\n",
    "    validation_loss = 0\n",
    "    with torch.no_grad(): # No need to calculate gradient during validation\n",
    "        for val_inputs, val_labels in val_loader:\n",
    "            val_inputs, val_labels = val_inputs.to(device), val_labels.to(device)\n",
    "            val_outputs = model(val_inputs)\n",
    "            val_loss = criterion(val_outputs, val_labels)\n",
    "            validation_loss += val_loss.item()\n",
    "    \n",
    "    # Calculate the average validation loss\n",
    "    validation_loss /= len(val_loader)\n",
    "    \n",
    "    # Update scheduler based on validation loss\n",
    "    scheduler.step(validation_loss)\n",
    "    \n",
    "    # Displays the latest learning rate\n",
    "    print(f'Learning Rate: {scheduler.optimizer.param_groups[0][\"lr\"]}')\n",
    "    \n",
    "    \n",
    "    print(f'Epoch [{epoch + 1}/{num_epochs}], Loss: {loss.item():.4f}, Validation Loss: {validation_loss:.4f}')"
   ]
  },
  {
   "cell_type": "markdown",
   "metadata": {},
   "source": [
    "## Evaluation\n"
   ]
  },
  {
   "cell_type": "code",
   "execution_count": 183,
   "metadata": {},
   "outputs": [],
   "source": [
    "# Split validation into two parts for validation and testing\n",
    "val_size = int(0.1 * len(dataset))\n",
    "test_size = len(dataset) - train_size - val_size\n",
    "train_dataset, val_dataset, test_dataset = random_split(dataset, [train_size, val_size, test_size])\n",
    "\n",
    "# DataLoader for testing\n",
    "test_loader = DataLoader(test_dataset, batch_size=32, shuffle=False)"
   ]
  },
  {
   "cell_type": "code",
   "execution_count": 194,
   "metadata": {},
   "outputs": [
    {
     "name": "stdout",
     "output_type": "stream",
     "text": [
      "Accuracy on validation set: 0.6479\n",
      "              precision    recall  f1-score   support\n",
      "\n",
      "           0       0.80      0.84      0.82       156\n",
      "           1       0.53      0.49      0.51       205\n",
      "           2       0.71      0.64      0.68       174\n",
      "           3       0.83      0.69      0.76       241\n",
      "           4       0.58      0.58      0.58       190\n",
      "           5       0.31      0.73      0.43        45\n",
      "\n",
      "    accuracy                           0.65      1011\n",
      "   macro avg       0.63      0.66      0.63      1011\n",
      "weighted avg       0.67      0.65      0.66      1011\n",
      "\n"
     ]
    }
   ],
   "source": [
    "model.eval() # Set the model to evaluation mode\n",
    "all_preds = []\n",
    "all_labels = []\n",
    "\n",
    "with torch.no_grad(): # Disable gradients to save memory\n",
    "    for inputs, labels in val_loader: # Using val_loader\n",
    "        inputs, labels = inputs.to(device), labels.to(device) # Move to GPU\n",
    "        outputs = model(inputs) # Get model predictions\n",
    "        _, preds = torch.max(outputs, 1) # Take the class with the highest probability\n",
    "        all_preds.extend(preds.cpu().numpy()) # Return to CPU before saving\n",
    "        all_labels.extend(labels.cpu().numpy()) # Return to CPU before saving\n",
    "\n",
    "# Calculate accuracy\n",
    "accuracy = accuracy_score(all_labels, all_preds)\n",
    "print(f\"Accuracy on validation set: {accuracy:.4f}\")\n",
    "\n",
    "print(classification_report(all_labels, all_preds))"
   ]
  },
  {
   "cell_type": "markdown",
   "metadata": {},
   "source": [
    "**Confusion Matrix**"
   ]
  },
  {
   "cell_type": "markdown",
   "metadata": {},
   "source": [
    "### Confusion Matrix\n",
    "The confusion matrix is an essential tool for evaluating the performance of classification models. I utilized it for the following reasons:\n",
    "\n",
    "- **Detailed Performance Analysis:** It provides a comprehensive view of the model's performance across all classes, highlighting not just the overall accuracy but also where the model is making mistakes.\n",
    "- **Class Imbalance Insights:** By examining the confusion matrix, I can identify specific categories that the model struggles with, allowing for targeted improvements.\n",
    "- **Quantitative Metrics:** The confusion matrix feeds into various performance metrics (e.g., precision, recall, F1-score), which are crucial for understanding the model's effectiveness, particularly in imbalanced datasets."
   ]
  },
  {
   "cell_type": "code",
   "execution_count": 189,
   "metadata": {},
   "outputs": [
    {
     "data": {
      "image/png": "[encoded data removed]",
      "text/plain": [
       "<Figure size 1000x800 with 2 Axes>"
      ]
     },
     "metadata": {},
     "output_type": "display_data"
    }
   ],
   "source": [
    "class_names = ['Carboard', 'Glass', 'Metal', 'Paper', 'Plastic', 'Trash']\n",
    "\n",
    "cm = confusion_matrix(all_labels, all_preds)\n",
    "plt.figure(figsize=(10, 8))\n",
    "sns.heatmap(cm, annot=True, fmt=\"d\", cmap=\"Blues\", xticklabels=class_names, yticklabels=class_names)\n",
    "plt.xlabel(\"Predicted\")\n",
    "plt.ylabel(\"Actual\")\n",
    "plt.title(\"Confusion Matrix\")\n",
    "plt.show()"
   ]
  },
  {
   "cell_type": "markdown",
   "metadata": {},
   "source": [
    "# Model versioning and tracking using wandb.ai"
   ]
  },
  {
   "cell_type": "code",
   "execution_count": 199,
   "metadata": {},
   "outputs": [
    {
     "data": {
      "application/vnd.jupyter.widget-view+json": {
       "model_id": "35d5897ed3194e92beb580f6124a6a9e",
       "version_major": 2,
       "version_minor": 0
      },
      "text/plain": [
       "VBox(children=(Label(value='Waiting for wandb.init()...\\r'), FloatProgress(value=0.011113645800085377, max=1.0…"
      ]
     },
     "metadata": {},
     "output_type": "display_data"
    },
    {
     "data": {
      "text/html": [
       "Tracking run with wandb version 0.18.5"
      ],
      "text/plain": [
       "<IPython.core.display.HTML object>"
      ]
     },
     "metadata": {},
     "output_type": "display_data"
    },
    {
     "data": {
      "text/html": [
       "Run data is saved locally in <code>/home/saifulsihacker/jupyter/wandb/run-20241028_215033-pucej6qj</code>"
      ],
      "text/plain": [
       "<IPython.core.display.HTML object>"
      ]
     },
     "metadata": {},
     "output_type": "display_data"
    },
    {
     "data": {
      "text/html": [
       "Syncing run <strong><a href='https://wandb.ai/saifulanwar_-binus-university/trashnet-classifier/runs/pucej6qj' target=\"_blank\">pretty-universe-1</a></strong> to <a href='https://wandb.ai/saifulanwar_-binus-university/trashnet-classifier' target=\"_blank\">Weights & Biases</a> (<a href='https://wandb.me/run' target=\"_blank\">docs</a>)<br/>"
      ],
      "text/plain": [
       "<IPython.core.display.HTML object>"
      ]
     },
     "metadata": {},
     "output_type": "display_data"
    },
    {
     "data": {
      "text/html": [
       " View project at <a href='https://wandb.ai/saifulanwar_-binus-university/trashnet-classifier' target=\"_blank\">https://wandb.ai/saifulanwar_-binus-university/trashnet-classifier</a>"
      ],
      "text/plain": [
       "<IPython.core.display.HTML object>"
      ]
     },
     "metadata": {},
     "output_type": "display_data"
    },
    {
     "data": {
      "text/html": [
       " View run at <a href='https://wandb.ai/saifulanwar_-binus-university/trashnet-classifier/runs/pucej6qj' target=\"_blank\">https://wandb.ai/saifulanwar_-binus-university/trashnet-classifier/runs/pucej6qj</a>"
      ],
      "text/plain": [
       "<IPython.core.display.HTML object>"
      ]
     },
     "metadata": {},
     "output_type": "display_data"
    },
    {
     "data": {
      "application/vnd.jupyter.widget-view+json": {
       "model_id": "21cda439f81041368e331c73cf466975",
       "version_major": 2,
       "version_minor": 0
      },
      "text/plain": [
       "VBox(children=(Label(value='1.004 MB of 64.030 MB uploaded\\r'), FloatProgress(value=0.01568573913524756, max=1…"
      ]
     },
     "metadata": {},
     "output_type": "display_data"
    },
    {
     "data": {
      "text/html": [
       "<style>\n",
       "    table.wandb td:nth-child(1) { padding: 0 10px; text-align: left ; width: auto;} td:nth-child(2) {text-align: left ; width: 100%}\n",
       "    .wandb-row { display: flex; flex-direction: row; flex-wrap: wrap; justify-content: flex-start; width: 100% }\n",
       "    .wandb-col { display: flex; flex-direction: column; flex-basis: 100%; flex: 1; padding: 10px; }\n",
       "    </style>\n",
       "<div class=\"wandb-row\"><div class=\"wandb-col\"><h3>Run history:</h3><br/><table class=\"wandb\"><tr><td>accuracy</td><td>▁▄▄▅▆▆▇▇██</td></tr><tr><td>epoch</td><td>▁▂▃▃▄▅▆▆▇█</td></tr><tr><td>loss</td><td>█▅▄▄▃▃▂▂▁▁</td></tr></table><br/></div><div class=\"wandb-col\"><h3>Run summary:</h3><br/><table class=\"wandb\"><tr><td>accuracy</td><td>0.81202</td></tr><tr><td>epoch</td><td>9</td></tr><tr><td>loss</td><td>0.53372</td></tr></table><br/></div></div>"
      ],
      "text/plain": [
       "<IPython.core.display.HTML object>"
      ]
     },
     "metadata": {},
     "output_type": "display_data"
    },
    {
     "data": {
      "text/html": [
       " View run <strong style=\"color:#cdcd00\">pretty-universe-1</strong> at: <a href='https://wandb.ai/saifulanwar_-binus-university/trashnet-classifier/runs/pucej6qj' target=\"_blank\">https://wandb.ai/saifulanwar_-binus-university/trashnet-classifier/runs/pucej6qj</a><br/> View project at: <a href='https://wandb.ai/saifulanwar_-binus-university/trashnet-classifier' target=\"_blank\">https://wandb.ai/saifulanwar_-binus-university/trashnet-classifier</a><br/>Synced 5 W&B file(s), 0 media file(s), 0 artifact file(s) and 1 other file(s)"
      ],
      "text/plain": [
       "<IPython.core.display.HTML object>"
      ]
     },
     "metadata": {},
     "output_type": "display_data"
    },
    {
     "data": {
      "text/html": [
       "Find logs at: <code>./wandb/run-20241028_215033-pucej6qj/logs</code>"
      ],
      "text/plain": [
       "<IPython.core.display.HTML object>"
      ]
     },
     "metadata": {},
     "output_type": "display_data"
    }
   ],
   "source": [
    "import matplotlib.pyplot as plt\n",
    "from datasets import load_dataset\n",
    "from PIL import Image, ImageOps\n",
    "import os\n",
    "from sklearn.utils.class_weight import compute_class_weight\n",
    "import numpy as np\n",
    "import torch\n",
    "from torchvision.datasets import ImageFolder\n",
    "from torchvision import datasets\n",
    "import torch.nn as nn\n",
    "import torch.optim as optim\n",
    "from torch.utils.data import DataLoader, WeightedRandomSampler\n",
    "from torchvision import transforms\n",
    "import torch.nn.functional as F\n",
    "from collections import Counter\n",
    "from torch.utils.data import random_split\n",
    "from sklearn.metrics import accuracy_score, classification_report\n",
    "from sklearn.metrics import confusion_matrix\n",
    "import seaborn as sns\n",
    "import wandb  # Import W&B\n",
    "\n",
    "# Initialize W&B\n",
    "wandb.init(project=\"trashnet-classifier\")\n",
    "\n",
    "# Save hyperparameters\n",
    "config = wandb.config\n",
    "config.epochs = 10\n",
    "config.batch_size = 32\n",
    "config.learning_rate = 0.001\n",
    "\n",
    "# Load dataset\n",
    "dataset = load_dataset('garythung/trashnet')\n",
    "# Assume the dataset has been processed and split into train and validation\n",
    "\n",
    "# Define the model\n",
    "class SimpleCNN(nn.Module):\n",
    "    def __init__(self):\n",
    "        super(SimpleCNN, self).__init__()\n",
    "        self.conv1 = nn.Conv2d(3, 16, kernel_size=3, stride=1, padding=1)\n",
    "        self.pool = nn.MaxPool2d(kernel_size=2, stride=2, padding=0)\n",
    "        self.conv2 = nn.Conv2d(16, 32, kernel_size=3, stride=1, padding=1)\n",
    "        self.fc1 = nn.Linear(32 * 64 * 64, 128)  # Adjust dimensions\n",
    "        self.fc2 = nn.Linear(128, 6)  # Number of classes\n",
    "\n",
    "    def forward(self, x):\n",
    "        x = self.pool(F.relu(self.conv1(x)))\n",
    "        x = self.pool(F.relu(self.conv2(x)))\n",
    "        x = x.view(-1, 32 * 64 * 64)  # Adjust dimensions\n",
    "        x = F.relu(self.fc1(x))\n",
    "        x = self.fc2(x)\n",
    "        return x\n",
    "\n",
    "# Initialize model, loss function, and optimizer\n",
    "model = SimpleCNN()\n",
    "criterion = nn.CrossEntropyLoss()\n",
    "optimizer = optim.Adam(model.parameters(), lr=config.learning_rate)\n",
    "\n",
    "# Training loop\n",
    "for epoch in range(config.epochs):\n",
    "    model.train()\n",
    "    running_loss = 0.0\n",
    "    total = 0\n",
    "    correct = 0\n",
    "    \n",
    "    for images, labels in train_loader:  # Replace with your DataLoader\n",
    "        optimizer.zero_grad()\n",
    "        outputs = model(images)\n",
    "        loss = criterion(outputs, labels)\n",
    "        loss.backward()\n",
    "        optimizer.step()\n",
    "\n",
    "        running_loss += loss.item()\n",
    "        _, predicted = torch.max(outputs.data, 1)\n",
    "        total += labels.size(0)\n",
    "        correct += (predicted == labels).sum().item()\n",
    "\n",
    "    epoch_loss = running_loss / len(train_loader)\n",
    "    epoch_accuracy = correct / total\n",
    "\n",
    "    # Log metrics to W&B\n",
    "    wandb.log({\"epoch\": epoch, \"loss\": epoch_loss, \"accuracy\": epoch_accuracy})\n",
    "\n",
    "# Save model to W&B\n",
    "torch.save(model.state_dict(), \"model.pth\")\n",
    "wandb.save(\"model.pth\")\n",
    "\n",
    "# Finish W&B\n",
    "wandb.finish()"
   ]
  },
  {
   "cell_type": "markdown",
   "metadata": {},
   "source": [
    "# Conclusion\n",
    "In this project, I successfully implemented an image classification model using a convolutional neural network (CNN) to identify different types of trash from the TrashNet dataset. I focused on preprocessing the images by resizing and normalizing them, ensuring they were suitable for model training.\n",
    "\n",
    "During the training phase, I utilized a weighted sampling strategy to address class imbalance, which improved the model's ability to generalize across various categories. I trained the model for 35 epochs and monitored its performance using validation loss and accuracy metrics.\n",
    "\n",
    "After training, I evaluated the model using a confusion matrix and a classification report. The results demonstrated that the model performed well, achieving an accuracy of approximately **0.6479** on the validation set. The confusion matrix revealed varying performance levels across different categories. The cardboard category had the highest classification accuracy, with **131 samples** correctly classified. In contrast, the metal category had the lowest accuracy, with only **15 samples** accurately identified. Generally, the glass, plastic, and paper categories performed reasonably well, while the trash category showed the least accuracy.\n",
    "\n",
    "These insights highlight areas for improvement in the classification model, particularly in enhancing the recognition of metal and trash materials. This project not only enhanced my understanding of CNNs and image classification but also provided practical experience in handling real-world data challenges, such as class imbalance and image preprocessing. I look forward to applying the skills and insights gained from this project to future machine learning tasks."
   ]
  }
 ],
 "metadata": {
  "kernelspec": {
   "display_name": "jpvenv",
   "language": "python",
   "name": "python3"
  },
  "language_info": {
   "codemirror_mode": {
    "name": "ipython",
    "version": 3
   },
   "file_extension": ".py",
   "mimetype": "text/x-python",
   "name": "python",
   "nbconvert_exporter": "python",
   "pygments_lexer": "ipython3",
   "version": "3.12.3"
  }
 },
 "nbformat": 4,
 "nbformat_minor": 2
}
